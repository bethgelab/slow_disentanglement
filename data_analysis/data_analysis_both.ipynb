{
 "cells": [
  {
   "cell_type": "code",
   "execution_count": 1,
   "metadata": {},
   "outputs": [],
   "source": [
    "import sys\n",
    "import os\n",
    "sys.path.insert(1, os.path.realpath(os.path.pardir))\n",
    "from scripts.data_analysis_utils import load_data, load_csv, plot_diff, generate_dataframe\n",
    "import pandas as pd"
   ]
  },
  {
   "cell_type": "code",
   "execution_count": 2,
   "metadata": {},
   "outputs": [],
   "source": [
    "data_kitti = load_data('./data/kitti_dict_p_v2')\n",
    "with open('./data/downscale_keepaspect.csv') as data:\n",
    "    data_yt = load_csv(data)"
   ]
  },
  {
   "cell_type": "code",
   "execution_count": 3,
   "metadata": {},
   "outputs": [
    {
     "data": {
      "image/png": "[encoded data removed]",
      "text/plain": [
       "<Figure size 648x432 with 6 Axes>"
      ]
     },
     "metadata": {
      "needs_background": "light"
     },
     "output_type": "display_data"
    }
   ],
   "source": [
    "import matplotlib.pyplot as plt\n",
    "%matplotlib inline\n",
    "plt.figure(figsize=(3*3,2*3))\n",
    "metrics = ['area','x','y']\n",
    "semilog = False\n",
    "data_dicts = [data_kitti, data_yt]\n",
    "for i,x in enumerate(data_dicts):\n",
    "    for j,y in enumerate(metrics):\n",
    "        plt.subplot(2,3,1+i*len(metrics) + j).set_title(r'$\\Delta$ {} ({})'.format(y,'YTVOS' if i==1 else 'KITTI'))\n",
    "        plot_diff(x, y, semilogy=semilog)\n",
    "plt.tight_layout()\n",
    "plt.savefig('{}_plots.pdf'.format('semilog' if semilog else 'linear'))"
   ]
  },
  {
   "cell_type": "code",
   "execution_count": 4,
   "metadata": {},
   "outputs": [],
   "source": [
    "data_dicts = [data_kitti, data_yt]\n",
    "dfs = []\n",
    "for i,x in enumerate(data_dicts):\n",
    "    dfs.append(generate_dataframe(x))"
   ]
  },
  {
   "cell_type": "code",
   "execution_count": 5,
   "metadata": {},
   "outputs": [
    {
     "data": {
      "text/html": [
       "<div>\n",
       "<style scoped>\n",
       "    .dataframe tbody tr th:only-of-type {\n",
       "        vertical-align: middle;\n",
       "    }\n",
       "\n",
       "    .dataframe tbody tr th {\n",
       "        vertical-align: top;\n",
       "    }\n",
       "\n",
       "    .dataframe thead th {\n",
       "        text-align: right;\n",
       "    }\n",
       "</style>\n",
       "<table border=\"1\" class=\"dataframe\">\n",
       "  <thead>\n",
       "    <tr style=\"text-align: right;\">\n",
       "      <th></th>\n",
       "      <th>category</th>\n",
       "      <th>N</th>\n",
       "      <th>kurtosis_area</th>\n",
       "      <th>kurtosis_x</th>\n",
       "      <th>kurtosis_y</th>\n",
       "    </tr>\n",
       "  </thead>\n",
       "  <tbody>\n",
       "    <tr>\n",
       "      <th>0</th>\n",
       "      <td>all</td>\n",
       "      <td>82506</td>\n",
       "      <td>68.92</td>\n",
       "      <td>38.50</td>\n",
       "      <td>65.39</td>\n",
       "    </tr>\n",
       "    <tr>\n",
       "      <th>0</th>\n",
       "      <td>all</td>\n",
       "      <td>234652</td>\n",
       "      <td>76.49</td>\n",
       "      <td>39.98</td>\n",
       "      <td>35.59</td>\n",
       "    </tr>\n",
       "  </tbody>\n",
       "</table>\n",
       "</div>"
      ],
      "text/plain": [
       "  category       N kurtosis_area kurtosis_x kurtosis_y\n",
       "0      all   82506         68.92      38.50      65.39\n",
       "0      all  234652         76.49      39.98      35.59"
      ]
     },
     "execution_count": 5,
     "metadata": {},
     "output_type": "execute_result"
    }
   ],
   "source": [
    "pd.concat([dfs[i].loc[dfs[i]['category'] == 'all'][['category', 'N', *[col for col in dfs[i].columns if 'kurtosis' in col]]].sort_values('N',ascending=False) for i in range(len(dfs))])"
   ]
  },
  {
   "cell_type": "code",
   "execution_count": 6,
   "metadata": {},
   "outputs": [
    {
     "data": {
      "text/html": [
       "<div>\n",
       "<style scoped>\n",
       "    .dataframe tbody tr th:only-of-type {\n",
       "        vertical-align: middle;\n",
       "    }\n",
       "\n",
       "    .dataframe tbody tr th {\n",
       "        vertical-align: top;\n",
       "    }\n",
       "\n",
       "    .dataframe thead th {\n",
       "        text-align: right;\n",
       "    }\n",
       "</style>\n",
       "<table border=\"1\" class=\"dataframe\">\n",
       "  <thead>\n",
       "    <tr style=\"text-align: right;\">\n",
       "      <th></th>\n",
       "      <th>category</th>\n",
       "      <th>N</th>\n",
       "      <th>ll_gennorm_area</th>\n",
       "      <th>ll_norm_area</th>\n",
       "      <th>ll_laplace_area</th>\n",
       "      <th>ll_gennorm_x</th>\n",
       "      <th>ll_norm_x</th>\n",
       "      <th>ll_laplace_x</th>\n",
       "      <th>ll_gennorm_y</th>\n",
       "      <th>ll_norm_y</th>\n",
       "      <th>ll_laplace_y</th>\n",
       "    </tr>\n",
       "  </thead>\n",
       "  <tbody>\n",
       "    <tr>\n",
       "      <th>0</th>\n",
       "      <td>all</td>\n",
       "      <td>82506</td>\n",
       "      <td>-3.21e+05</td>\n",
       "      <td>-3.79e+05</td>\n",
       "      <td>-3.35e+05</td>\n",
       "      <td>-8.72e+04</td>\n",
       "      <td>-1.20e+05</td>\n",
       "      <td>-9.25e+04</td>\n",
       "      <td>-7.59e+04</td>\n",
       "      <td>-1.07e+05</td>\n",
       "      <td>-7.86e+04</td>\n",
       "    </tr>\n",
       "    <tr>\n",
       "      <th>0</th>\n",
       "      <td>all</td>\n",
       "      <td>234652</td>\n",
       "      <td>-1.29e+06</td>\n",
       "      <td>-1.45e+06</td>\n",
       "      <td>-1.33e+06</td>\n",
       "      <td>-4.50e+05</td>\n",
       "      <td>-5.64e+05</td>\n",
       "      <td>-4.74e+05</td>\n",
       "      <td>-4.40e+05</td>\n",
       "      <td>-5.45e+05</td>\n",
       "      <td>-4.60e+05</td>\n",
       "    </tr>\n",
       "  </tbody>\n",
       "</table>\n",
       "</div>"
      ],
      "text/plain": [
       "  category       N ll_gennorm_area ll_norm_area ll_laplace_area ll_gennorm_x  \\\n",
       "0      all   82506       -3.21e+05    -3.79e+05       -3.35e+05    -8.72e+04   \n",
       "0      all  234652       -1.29e+06    -1.45e+06       -1.33e+06    -4.50e+05   \n",
       "\n",
       "   ll_norm_x ll_laplace_x ll_gennorm_y  ll_norm_y ll_laplace_y  \n",
       "0  -1.20e+05    -9.25e+04    -7.59e+04  -1.07e+05    -7.86e+04  \n",
       "0  -5.64e+05    -4.74e+05    -4.40e+05  -5.45e+05    -4.60e+05  "
      ]
     },
     "execution_count": 6,
     "metadata": {},
     "output_type": "execute_result"
    }
   ],
   "source": [
    "pd.concat([dfs[i].loc[dfs[i]['category'] == 'all'][['category', 'N', *[col for col in dfs[i].columns if 'll' in col]]].sort_values('N',ascending=False) for i in range(len(dfs))])"
   ]
  },
  {
   "cell_type": "code",
   "execution_count": 7,
   "metadata": {},
   "outputs": [
    {
     "data": {
      "text/html": [
       "<div>\n",
       "<style scoped>\n",
       "    .dataframe tbody tr th:only-of-type {\n",
       "        vertical-align: middle;\n",
       "    }\n",
       "\n",
       "    .dataframe tbody tr th {\n",
       "        vertical-align: top;\n",
       "    }\n",
       "\n",
       "    .dataframe thead th {\n",
       "        text-align: right;\n",
       "    }\n",
       "</style>\n",
       "<table border=\"1\" class=\"dataframe\">\n",
       "  <thead>\n",
       "    <tr style=\"text-align: right;\">\n",
       "      <th></th>\n",
       "      <th>category</th>\n",
       "      <th>N</th>\n",
       "      <th>gennorm_area</th>\n",
       "      <th>norm_area</th>\n",
       "      <th>laplace_area</th>\n",
       "      <th>gennorm_x</th>\n",
       "      <th>norm_x</th>\n",
       "      <th>laplace_x</th>\n",
       "      <th>gennorm_y</th>\n",
       "      <th>norm_y</th>\n",
       "      <th>laplace_y</th>\n",
       "    </tr>\n",
       "  </thead>\n",
       "  <tbody>\n",
       "    <tr>\n",
       "      <th>0</th>\n",
       "      <td>all</td>\n",
       "      <td>82506</td>\n",
       "      <td>[4.55e-01, 1.00e+00, 1.01e+00]</td>\n",
       "      <td>[4.53e-01, 2.39e+01]</td>\n",
       "      <td>[1.00e+00, 1.07e+01]</td>\n",
       "      <td>[5.87e-01, 4.76e-02, 1.69e-01]</td>\n",
       "      <td>[5.34e-02, 1.04e+00]</td>\n",
       "      <td>[5.49e-02, 5.64e-01]</td>\n",
       "      <td>[6.94e-01, 1.02e-02, 2.32e-01]</td>\n",
       "      <td>[3.84e-02, 8.86e-01]</td>\n",
       "      <td>[1.71e-02, 4.77e-01]</td>\n",
       "    </tr>\n",
       "    <tr>\n",
       "      <th>0</th>\n",
       "      <td>all</td>\n",
       "      <td>234652</td>\n",
       "      <td>[4.44e-01, 1.47e-16, 5.04e+00]</td>\n",
       "      <td>[2.25e-01, 1.16e+02]</td>\n",
       "      <td>[7.73e-09, 5.28e+01]</td>\n",
       "      <td>[5.15e-01, 1.15e-14, 2.57e-01]</td>\n",
       "      <td>[2.32e-03, 2.68e+00]</td>\n",
       "      <td>[7.54e-09, 1.38e+00]</td>\n",
       "      <td>[5.48e-01, 2.93e-13, 3.08e-01]</td>\n",
       "      <td>[8.81e-03, 2.47e+00]</td>\n",
       "      <td>[9.15e-04, 1.30e+00]</td>\n",
       "    </tr>\n",
       "  </tbody>\n",
       "</table>\n",
       "</div>"
      ],
      "text/plain": [
       "  category       N                    gennorm_area             norm_area  \\\n",
       "0      all   82506  [4.55e-01, 1.00e+00, 1.01e+00]  [4.53e-01, 2.39e+01]   \n",
       "0      all  234652  [4.44e-01, 1.47e-16, 5.04e+00]  [2.25e-01, 1.16e+02]   \n",
       "\n",
       "           laplace_area                       gennorm_x                norm_x  \\\n",
       "0  [1.00e+00, 1.07e+01]  [5.87e-01, 4.76e-02, 1.69e-01]  [5.34e-02, 1.04e+00]   \n",
       "0  [7.73e-09, 5.28e+01]  [5.15e-01, 1.15e-14, 2.57e-01]  [2.32e-03, 2.68e+00]   \n",
       "\n",
       "              laplace_x                       gennorm_y                norm_y  \\\n",
       "0  [5.49e-02, 5.64e-01]  [6.94e-01, 1.02e-02, 2.32e-01]  [3.84e-02, 8.86e-01]   \n",
       "0  [7.54e-09, 1.38e+00]  [5.48e-01, 2.93e-13, 3.08e-01]  [8.81e-03, 2.47e+00]   \n",
       "\n",
       "              laplace_y  \n",
       "0  [1.71e-02, 4.77e-01]  \n",
       "0  [9.15e-04, 1.30e+00]  "
      ]
     },
     "execution_count": 7,
     "metadata": {},
     "output_type": "execute_result"
    }
   ],
   "source": [
    "pd.concat([dfs[i].loc[dfs[i]['category'] == 'all'][['category', 'N', *[col for col in dfs[i] if any([col.startswith(x) for x in ['laplace','gennorm','norm']])]]].sort_values('N',ascending=False) for i in range(len(dfs))])"
   ]
  }
 ],
 "metadata": {
  "kernelspec": {
   "display_name": "Python 3",
   "language": "python",
   "name": "python3"
  },
  "language_info": {
   "codemirror_mode": {
    "name": "ipython",
    "version": 3
   },
   "file_extension": ".py",
   "mimetype": "text/x-python",
   "name": "python",
   "nbconvert_exporter": "python",
   "pygments_lexer": "ipython3",
   "version": "3.6.7"
  }
 },
 "nbformat": 4,
 "nbformat_minor": 2
}
